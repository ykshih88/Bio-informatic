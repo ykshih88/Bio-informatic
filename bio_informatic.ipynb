{
 "cells": [
  {
   "cell_type": "code",
   "execution_count": 1,
   "metadata": {},
   "outputs": [],
   "source": [
    "\n",
    "import os\n",
    "import time\n",
    "import tracemalloc\n",
    "import numpy as np\n",
    "from guppy import hpy\n",
    "hp = hpy()\n",
    "file = open('GRCh38_latest_genomic.fna')"
   ]
  },
  {
   "cell_type": "code",
   "execution_count": 2,
   "metadata": {},
   "outputs": [],
   "source": [
    "data = file.readlines()\n",
    "file.close()"
   ]
  },
  {
   "cell_type": "code",
   "execution_count": 3,
   "metadata": {},
   "outputs": [
    {
     "name": "stdout",
     "output_type": "stream",
     "text": [
      "13285205 ttggtaccattccttctgaaactattccaaacaacagaaaaagagagaatcctccctaactcattttatgaggccagaat\n",
      "\n",
      "13286454 TTCCCTGAGCTGCTGTCTGGTCCAGAGCCCATGCACACAGGTGGAGACTGACTCTCCCTTAGGACCACTGCCTTTGCCTG\n",
      "\n",
      "13288045 GGCTGGGTAGCCCCCAGTTTAATGCAGCCCCAGAAATGCCCAGCATCTTTGCCTTGTCTTTGCCTGTCATGGTTTTCTGT\n",
      "\n",
      "13288441 GAAATGTGCTATTCGGAGCTTTGCCTGTGACCCCCTGCTTCGGAAGCATTCCTGCCCATGTGCCCCACTGATCTCTGCTT\n",
      "\n"
     ]
    }
   ],
   "source": [
    "import math\n",
    "pitch='>NC_000006.12 Homo sapiens chromosome 6, GRCh38.p13 Primary Assembly\\n'\n",
    "id=data.index(pitch)\n",
    "for i in range(id,id+5000):\n",
    "    if 'ttggtaccat' in data[i]:\n",
    "        print(i,data[i])\n",
    "    elif 'CTTTGCCTG' in data[i]:\n",
    "        print(i,data[i])\n",
    "begin_line = 13285205\n",
    "end_line  =  13286454\n",
    "\n",
    "data = data[begin_line:end_line+1]"
   ]
  },
  {
   "cell_type": "markdown",
   "metadata": {},
   "source": [
    "# Order 0"
   ]
  },
  {
   "cell_type": "code",
   "execution_count": 4,
   "metadata": {},
   "outputs": [
    {
     "name": "stdout",
     "output_type": "stream",
     "text": [
      "0.31515 0.26886 0.20803 0.20796\n",
      "-197688.94757656846\n",
      "time0.012996435165405273 sec\n",
      "Partition of a set of 287181 objects. Total size = 35098283 bytes.\n",
      " Index  Count   %     Size   % Cumulative  % Kind (class / dict of class)\n",
      "     0  81142  28 10295875  29  10295875  29 str\n",
      "     1  80719  28  6050792  17  16346667  47 tuple\n",
      "     2  35335  12  2613388   7  18960055  54 bytes\n",
      "     3  17790   6  2573360   7  21533415  61 types.CodeType\n",
      "     4  15904   6  2162944   6  23696359  68 function\n",
      "     5   2216   1  2121464   6  25817823  74 type\n",
      "     6   5442   2  2017000   6  27834823  79 dict (no owner)\n",
      "     7    859   0  1318688   4  29153511  83 dict of module\n",
      "     8   2216   1  1075736   3  30229247  86 dict of type\n",
      "     9  14445   5   417352   1  30646599  87 int\n",
      "<839 more rows. Type e.g. '_.more' to view.>\n"
     ]
    }
   ],
   "source": [
    "\n",
    "start_time = time.time()\n",
    "total=100000\n",
    "a_num=0\n",
    "t_num=0\n",
    "c_num=0\n",
    "g_num=0\n",
    "for line_data in data:\n",
    "    for letter in line_data.lower():\n",
    "        if letter == 'a':\n",
    "            a_num+=1\n",
    "        elif letter == 't':\n",
    "            t_num+=1\n",
    "        elif letter == 'c':\n",
    "            c_num+=1\n",
    "        elif letter == 'g':\n",
    "            g_num+=1\n",
    "# print(a_num,t_num,c_num,g_num,a_num+t_num+c_num+g_num)\n",
    "\n",
    "a_probability=a_num/total\n",
    "t_probability=t_num/total\n",
    "c_probability=c_num/total\n",
    "g_probability=g_num/total\n",
    "print(a_probability,t_probability,c_probability,g_probability)\n",
    "order_0 = math.log2(a_probability)*a_num + math.log2(t_probability)*t_num +math.log2(c_probability)*c_num + math.log2(g_probability)*g_num\n",
    "\n",
    "end_time = time.time()\n",
    "print(order_0)\n",
    "print(f'time{end_time - start_time} sec')\n",
    "h=hp.heap()\n",
    "print(h)"
   ]
  },
  {
   "cell_type": "markdown",
   "metadata": {},
   "source": [
    "# Order 1"
   ]
  },
  {
   "cell_type": "code",
   "execution_count": 5,
   "metadata": {},
   "outputs": [
    {
     "name": "stdout",
     "output_type": "stream",
     "text": [
      "{'aa': 11197, 'at': 7576, 'ac': 5537, 'ag': 7205, 'ta': 6241, 'tt': 7909, 'tc': 5546, 'tg': 7190, 'ca': 7796, 'ct': 6656, 'cc': 5308, 'cg': 1043, 'ga': 6281, 'gt': 4744, 'gc': 4412, 'gg': 5358}\n",
      "-193209.0890669481\n",
      "time0.038895368576049805 sec\n",
      "Partition of a set of 287432 objects. Total size = 35232038 bytes.\n",
      " Index  Count   %     Size   % Cumulative  % Kind (class / dict of class)\n",
      "     0  81178  28 10407290  30  10407290  30 str\n",
      "     1  80743  28  6052208  17  16459498  47 tuple\n",
      "     2  35348  12  2616188   7  19075686  54 bytes\n",
      "     3  17790   6  2573360   7  21649046  61 types.CodeType\n",
      "     4  15919   6  2164984   6  23814030  68 function\n",
      "     5   2216   1  2121464   6  25935494  74 type\n",
      "     6   5451   2  2019696   6  27955190  79 dict (no owner)\n",
      "     7    859   0  1321112   4  29276302  83 dict of module\n",
      "     8   2216   1  1075736   3  30352038  86 dict of type\n",
      "     9  14467   5   417972   1  30770010  87 int\n",
      "<847 more rows. Type e.g. '_.more' to view.>\n"
     ]
    }
   ],
   "source": [
    "start_time = time.time()\n",
    "#initial\n",
    "alphabet=['a','t','c','g']\n",
    "combination={}#4*4種組合\n",
    "for letter_1 in alphabet:\n",
    "    for letter_2 in alphabet:\n",
    "        combination[letter_1+letter_2]=0\n",
    "\n",
    "#split data\n",
    "split_data=''\n",
    "for line_data in data:\n",
    "    line_data = line_data.lower()\n",
    "    split_data += line_data[0:len(line_data)-1]#不包含endline\n",
    "#statistic\n",
    "for index in range(len(split_data)-1):#不包含最後一個letter\n",
    "        letter_1 = split_data[index] #假設at 中的a\n",
    "        letter_2 = split_data[index+1] #假設at 中的t\n",
    "        combination[letter_1+letter_2]+=1\n",
    "print(combination)\n",
    "#calculate\n",
    "total={'a':0,'t':0,'c':0,'g':0}#開頭a or t or c or g\n",
    "for first,second in combination:\n",
    "    total[first]+=combination[first+second]\n",
    "order_1=0\n",
    "for fir,sec in combination:# if at: fir=a sec=t\n",
    "    order_1 += math.log2(combination[fir+sec]/total[fir])*combination[fir+sec]\n",
    "\n",
    "order_1+=t_probability\n",
    "\n",
    "end_time = time.time()\n",
    "\n",
    "print(order_1)\n",
    "print(f'time{end_time - start_time} sec')\n",
    "\n",
    "h=hp.heap()\n",
    "print(h)"
   ]
  },
  {
   "cell_type": "markdown",
   "metadata": {},
   "source": [
    "# Order 2"
   ]
  },
  {
   "cell_type": "code",
   "execution_count": 6,
   "metadata": {},
   "outputs": [
    {
     "name": "stdout",
     "output_type": "stream",
     "text": [
      "{'aaa': 4651, 'aat': 2624, 'aac': 1720, 'aag': 2202, 'ata': 2138, 'att': 2215, 'atc': 1289, 'atg': 1934, 'aca': 2342, 'act': 1647, 'acc': 1265, 'acg': 283, 'aga': 2398, 'agt': 1517, 'agc': 1493, 'agg': 1797, 'taa': 2177, 'tat': 1791, 'tac': 1147, 'tag': 1126, 'tta': 1755, 'ttt': 2807, 'ttc': 1756, 'ttg': 1591, 'tca': 2019, 'tct': 1857, 'tcc': 1447, 'tcg': 223, 'tga': 1974, 'tgt': 1863, 'tgc': 1454, 'tgg': 1898, 'caa': 2182, 'cat': 1807, 'cac': 1656, 'cag': 2151, 'cta': 1279, 'ctt': 1694, 'ctc': 1566, 'ctg': 2117, 'cca': 1931, 'cct': 1750, 'ccc': 1348, 'ccg': 279, 'cga': 256, 'cgt': 257, 'cgc': 235, 'cgg': 295, 'gaa': 2187, 'gat': 1354, 'gac': 1014, 'gag': 1726, 'gta': 1069, 'gtt': 1192, 'gtc': 935, 'gtg': 1548, 'gca': 1504, 'gct': 1402, 'gcc': 1248, 'gcg': 258, 'gga': 1653, 'ggt': 1107, 'ggc': 1230, 'ggg': 1368}\n",
      "-192094.49773269478\n",
      "time0.05585074424743652 sec\n",
      "Partition of a set of 287566 objects. Total size = 35247399 bytes.\n",
      " Index  Count   %     Size   % Cumulative  % Kind (class / dict of class)\n",
      "     0  81215  28 10416989  30  10416989  30 str\n",
      "     1  80742  28  6052072  17  16469061  47 tuple\n",
      "     2  35337  12  2613894   7  19082955  54 bytes\n",
      "     3  17790   6  2573360   7  21656315  61 types.CodeType\n",
      "     4  15914   6  2164304   6  23820619  68 function\n",
      "     5   2216   1  2121464   6  25942083  74 type\n",
      "     6   5452   2  2022104   6  27964187  79 dict (no owner)\n",
      "     7    859   0  1321112   4  29285299  83 dict of module\n",
      "     8   2216   1  1075736   3  30361035  86 dict of type\n",
      "     9  14524   5   419568   1  30780603  87 int\n",
      "<845 more rows. Type e.g. '_.more' to view.>\n"
     ]
    }
   ],
   "source": [
    "start_time = time.time()\n",
    "#initial\n",
    "alphabet=['a','t','c','g']\n",
    "combination={}#4*4*4種組合\n",
    "for letter_1 in alphabet:\n",
    "    for letter_2 in alphabet:\n",
    "        for letter_3 in alphabet:\n",
    "            combination[letter_1+letter_2+letter_3]=0\n",
    "\n",
    "#split data\n",
    "split_data=''\n",
    "for line_data in data:\n",
    "    line_data = line_data.lower()\n",
    "    split_data += line_data[0:len(line_data)-1]#不包含endline\n",
    "#statistic\n",
    "for index in range(len(split_data)-2):#不包含最後一個即倒數第二個letter\n",
    "        letter_1 = split_data[index] #假設atc 中的a\n",
    "        letter_2 = split_data[index+1] #假設atc 中的t\n",
    "        letter_3 = split_data[index+2] #假設atc 中的c\n",
    "        combination[letter_1+letter_2+letter_3]+=1\n",
    "print(combination)\n",
    "#calculate\n",
    "total={}\n",
    "for i in alphabet:\n",
    "    for j in alphabet:\n",
    "        total[i+j]=0\n",
    "\n",
    "for i in combination:\n",
    "    total[i[0:2]]+=combination[i]\n",
    "\n",
    "order_2=0\n",
    "for i in combination:\n",
    "    order_2 += math.log2(combination[i]/total[i[0:2]])*combination[i]\n",
    "order_2 += t_probability\n",
    "\n",
    "end_time = time.time()\n",
    "\n",
    "print(order_2)\n",
    "print(f'time{end_time - start_time} sec')\n",
    "h=hp.heap()\n",
    "print(h)"
   ]
  },
  {
   "cell_type": "code",
   "execution_count": 7,
   "metadata": {},
   "outputs": [],
   "source": [
    "transition_state_0=[0.4,0.6] #[from 0 to 0 , from 0 to 1]\n",
    "transition_state_1=[0.7,0.3] #[from 1 to 0 , from 1 to 1]\n",
    "emission_satte_0=[0.3,0.3,0.2,0.2]#[a,t,c,g]\n",
    "emission_satte_1=[0.4,0.4,0.1,0.1]#[a,t,c,g]"
   ]
  },
  {
   "cell_type": "code",
   "execution_count": 8,
   "metadata": {},
   "outputs": [],
   "source": [
    "# file = open('GRCh38_latest_genomic.fna')"
   ]
  },
  {
   "cell_type": "code",
   "execution_count": 9,
   "metadata": {},
   "outputs": [],
   "source": [
    "# data = file.read()\n",
    "# file.close()"
   ]
  },
  {
   "cell_type": "code",
   "execution_count": 10,
   "metadata": {},
   "outputs": [],
   "source": [
    "# pitch='>NC_000006.12 Homo sapiens chromosome 6, GRCh38.p13 Primary Assembly'\n",
    "# pitch2='>NC_000007.14 Homo sapiens chromosome 7, GRCh38.p13 Primary Assembly'\n",
    "# file_name_index_begin= data.index(pitch)\n",
    "# file_name_index_end= file_name_index_begin + 69# 68 word + 1 endline\n",
    "\n",
    "# num_redundant_N=0\n",
    "# for i,data_temp in enumerate(data[file_name_index_end+1:]):#+1 for first N\n",
    "#     if data_temp!='N' and data_temp!='\\n':\n",
    "#         num_redundant_N=i+1 #i begin from 0\n",
    "#         break\n",
    "        \n",
    "# data_begin=file_name_index_end+num_redundant_N #endline後第一個gene\n",
    "# # print(data_begin,data[data_begin:data_begin+68])\n",
    "# print(data[data_begin+10000:data_begin+200005].index('ttggtaccat'))"
   ]
  },
  {
   "cell_type": "code",
   "execution_count": 11,
   "metadata": {},
   "outputs": [],
   "source": [
    "states = ('state_0', 'state_1')\n",
    "\n",
    "split_data=''\n",
    "for line_data in data:\n",
    "    line_data = line_data.lower()\n",
    "    split_data += line_data[0:len(line_data)-1]#不包含endline\n",
    "\n",
    "observations = split_data\n",
    " \n",
    "start_probability = {'state_0': 0.6, 'state_1': 0.4}\n",
    " \n",
    "transition_probability = {\n",
    "   'state_0' : {'state_0': 0.7, 'state_1': 0.3},\n",
    "   'state_1' : {'state_0': 0.9, 'state_1': 0.1},\n",
    "   }\n",
    " \n",
    "emission_probability = {\n",
    "   'state_0' : {'a': 0.4, 't': 0.1, 'c': 0.3,'g':0.2},\n",
    "   'state_1' : {'a': 0.2, 't': 0.3, 'c': 0.2,'g':0.4},\n",
    "   }"
   ]
  },
  {
   "cell_type": "code",
   "execution_count": 12,
   "metadata": {},
   "outputs": [],
   "source": [
    "import math\n",
    "\n",
    "def viterbi(obs, states, start_p, trans_p, emit_p):\n",
    "    V = [{}]\n",
    "    path = {}\n",
    "\n",
    "    # Initialize base cases (t == 0)\n",
    "    for y in states:\n",
    "        V[0][y] = math.log2(start_p[y] * emit_p[y][obs[0]])\n",
    "        path[y] = [y]\n",
    "    # Run Viterbi for t > 0\n",
    "    for gene in range(1,len(obs)):\n",
    "        V.append({})\n",
    "        newpath = {}\n",
    "\n",
    "        for y in states:\n",
    "            (prob, state) = max([(V[gene-1][y0] + math.log2(trans_p[y0][y]) + math.log2(emit_p[y][obs[gene]]), y0) for y0 in states])\n",
    "            V[gene][y] = prob\n",
    "            newpath[y] = path[state] + [y]\n",
    "\n",
    "        # Don't need to remember the old paths\n",
    "        path = newpath\n",
    "\n",
    "    #print_dptable(V)\n",
    "    (prob, state) = max([(V[len(obs) - 1][y], y) for y in states])\n",
    "    return (prob, path[state])\n",
    "#     return (prob)"
   ]
  },
  {
   "cell_type": "code",
   "execution_count": 14,
   "metadata": {},
   "outputs": [
    {
     "name": "stdout",
     "output_type": "stream",
     "text": [
      "probability:  -250252.33071276834\n",
      "time26.604285717010498 sec\n",
      "Partition of a set of 287278 objects. Total size = 35228929 bytes.\n",
      " Index  Count   %     Size   % Cumulative  % Kind (class / dict of class)\n",
      "     0  81337  28 10434920  30  10434920  30 str\n",
      "     1  80722  28  6051392  17  16486312  47 tuple\n",
      "     2  35353  12  2614569   7  19100881  54 bytes\n",
      "     3  17794   6  2573984   7  21674865  62 types.CodeType\n",
      "     4  15904   6  2162944   6  23837809  68 function\n",
      "     5   2216   1  2121848   6  25959657  74 type\n",
      "     6   5446   2  2021224   6  27980881  79 dict (no owner)\n",
      "     7    859   0  1321112   4  29301993  83 dict of module\n",
      "     8   2216   1  1075736   3  30377729  86 dict of type\n",
      "     9  14529   5   419708   1  30797437  87 int\n",
      "<840 more rows. Type e.g. '_.more' to view.>\n"
     ]
    }
   ],
   "source": [
    "start_time = time.time()\n",
    "\n",
    "def example():\n",
    "    return viterbi(observations,\n",
    "                   states,\n",
    "                   start_probability,\n",
    "                   transition_probability,\n",
    "                   emission_probability)\n",
    "\n",
    "\n",
    "\n",
    "print('probability: ', example()[0])\n",
    "\n",
    "end_time = time.time()\n",
    "print(f'time{end_time - start_time} sec')\n",
    "h=hp.heap()\n",
    "print(h)"
   ]
  },
  {
   "cell_type": "code",
   "execution_count": null,
   "metadata": {},
   "outputs": [],
   "source": []
  }
 ],
 "metadata": {
  "kernelspec": {
   "display_name": "Python 3",
   "language": "python",
   "name": "python3"
  },
  "language_info": {
   "codemirror_mode": {
    "name": "ipython",
    "version": 3
   },
   "file_extension": ".py",
   "mimetype": "text/x-python",
   "name": "python",
   "nbconvert_exporter": "python",
   "pygments_lexer": "ipython3",
   "version": "3.7.0"
  }
 },
 "nbformat": 4,
 "nbformat_minor": 4
}
