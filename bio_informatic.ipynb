{
 "cells": [
  {
   "cell_type": "code",
   "execution_count": 5,
   "metadata": {},
   "outputs": [],
   "source": [
    "file = open('GRCh38_latest_genomic.fna')"
   ]
  },
  {
   "cell_type": "code",
   "execution_count": 6,
   "metadata": {},
   "outputs": [],
   "source": [
    "data = file.readlines()\n",
    "file.close()"
   ]
  },
  {
   "cell_type": "code",
   "execution_count": 7,
   "metadata": {},
   "outputs": [
    {
     "name": "stdout",
     "output_type": "stream",
     "text": [
      "13285205 ttggtaccattccttctgaaactattccaaacaacagaaaaagagagaatcctccctaactcattttatgaggccagaat\n",
      "\n",
      "13286454 TTCCCTGAGCTGCTGTCTGGTCCAGAGCCCATGCACACAGGTGGAGACTGACTCTCCCTTAGGACCACTGCCTTTGCCTG\n",
      "\n",
      "13288045 GGCTGGGTAGCCCCCAGTTTAATGCAGCCCCAGAAATGCCCAGCATCTTTGCCTTGTCTTTGCCTGTCATGGTTTTCTGT\n",
      "\n",
      "13288441 GAAATGTGCTATTCGGAGCTTTGCCTGTGACCCCCTGCTTCGGAAGCATTCCTGCCCATGTGCCCCACTGATCTCTGCTT\n",
      "\n"
     ]
    }
   ],
   "source": [
    "import math\n",
    "pitch='>NC_000006.12 Homo sapiens chromosome 6, GRCh38.p13 Primary Assembly\\n'\n",
    "id=data.index(pitch)\n",
    "for i in range(id,id+5000):\n",
    "    if 'ttggtaccat' in data[i]:\n",
    "        print(i,data[i])\n",
    "    elif 'CTTTGCCTG' in data[i]:\n",
    "        print(i,data[i])\n",
    "begin_line = 13285205\n",
    "end_line  =  13286454\n",
    "\n"
   ]
  },
  {
   "cell_type": "markdown",
   "metadata": {},
   "source": [
    "# Order 0"
   ]
  },
  {
   "cell_type": "code",
   "execution_count": 81,
   "metadata": {},
   "outputs": [
    {
     "name": "stdout",
     "output_type": "stream",
     "text": [
      "0.31515 0.26886 0.20803 0.20796\n",
      "-197688.94757656846\n"
     ]
    }
   ],
   "source": [
    "total=100000\n",
    "a_num=0\n",
    "t_num=0\n",
    "c_num=0\n",
    "g_num=0\n",
    "for line_data in data[begin_line:end_line+1]:\n",
    "    for letter in line_data.lower():\n",
    "        if letter == 'a':\n",
    "            a_num+=1\n",
    "        elif letter == 't':\n",
    "            t_num+=1\n",
    "        elif letter == 'c':\n",
    "            c_num+=1\n",
    "        elif letter == 'g':\n",
    "            g_num+=1\n",
    "# print(a_num,t_num,c_num,g_num,a_num+t_num+c_num+g_num)\n",
    "\n",
    "a_probability=a_num/total\n",
    "t_probability=t_num/total\n",
    "c_probability=c_num/total\n",
    "g_probability=g_num/total\n",
    "print(a_probability,t_probability,c_probability,g_probability)\n",
    "order_0 = math.log2(a_probability)*a_num + math.log2(t_probability)*t_num +math.log2(c_probability)*c_num + math.log2(g_probability)*g_num\n",
    "print(order_0)"
   ]
  },
  {
   "cell_type": "markdown",
   "metadata": {},
   "source": [
    "# Order 1"
   ]
  },
  {
   "cell_type": "code",
   "execution_count": 161,
   "metadata": {},
   "outputs": [
    {
     "name": "stdout",
     "output_type": "stream",
     "text": [
      "{'aa': 11197, 'at': 7576, 'ac': 5537, 'ag': 7205, 'ta': 6241, 'tt': 7909, 'tc': 5546, 'tg': 7190, 'ca': 7796, 'ct': 6656, 'cc': 5308, 'cg': 1043, 'ga': 6281, 'gt': 4744, 'gc': 4412, 'gg': 5358}\n",
      "{'a': 31515, 't': 26886, 'c': 20803, 'g': 20795}\n",
      "-193209.0890669481\n"
     ]
    }
   ],
   "source": [
    "#initial\n",
    "alphabet=['a','t','c','g']\n",
    "combination={}#4*4種組合\n",
    "for letter_1 in alphabet:\n",
    "    for letter_2 in alphabet:\n",
    "        combination[letter_1+letter_2]=0\n",
    "\n",
    "#split data\n",
    "split_data=''\n",
    "for line_data in data[begin_line:end_line+1]:\n",
    "    line_data = line_data.lower()\n",
    "    split_data += line_data[0:len(line_data)-1]#不包含endline\n",
    "#statistic\n",
    "for index in range(len(split_data)-1):#不包含最後一個letter\n",
    "        letter_1 = split_data[index] #假設at 中的a\n",
    "        letter_2 = split_data[index+1] #假設at 中的t\n",
    "        combination[letter_1+letter_2]+=1\n",
    "print(combination)\n",
    "#calculate\n",
    "total={'a':0,'t':0,'c':0,'g':0}#開頭a or t or c or g\n",
    "for first,second in combination:\n",
    "    total[first]+=combination[first+second]\n",
    "order_1=0\n",
    "for fir,sec in combination:# if at: fir=a sec=t\n",
    "    order_1 += math.log2(combination[fir+sec]/total[fir])*combination[fir+sec]\n",
    "\n",
    "order_1+=t_probability\n",
    "print(order_1)"
   ]
  },
  {
   "cell_type": "markdown",
   "metadata": {},
   "source": [
    "# Order 2"
   ]
  },
  {
   "cell_type": "code",
   "execution_count": 95,
   "metadata": {},
   "outputs": [
    {
     "name": "stdout",
     "output_type": "stream",
     "text": [
      "{'aaa': 4651, 'aat': 2624, 'aac': 1720, 'aag': 2202, 'ata': 2138, 'att': 2215, 'atc': 1289, 'atg': 1934, 'aca': 2342, 'act': 1647, 'acc': 1265, 'acg': 283, 'aga': 2398, 'agt': 1517, 'agc': 1493, 'agg': 1797, 'taa': 2177, 'tat': 1791, 'tac': 1147, 'tag': 1126, 'tta': 1755, 'ttt': 2807, 'ttc': 1756, 'ttg': 1591, 'tca': 2019, 'tct': 1857, 'tcc': 1447, 'tcg': 223, 'tga': 1974, 'tgt': 1863, 'tgc': 1454, 'tgg': 1898, 'caa': 2182, 'cat': 1807, 'cac': 1656, 'cag': 2151, 'cta': 1279, 'ctt': 1694, 'ctc': 1566, 'ctg': 2117, 'cca': 1931, 'cct': 1750, 'ccc': 1348, 'ccg': 279, 'cga': 256, 'cgt': 257, 'cgc': 235, 'cgg': 295, 'gaa': 2187, 'gat': 1354, 'gac': 1014, 'gag': 1726, 'gta': 1069, 'gtt': 1192, 'gtc': 935, 'gtg': 1548, 'gca': 1504, 'gct': 1402, 'gcc': 1248, 'gcg': 258, 'gga': 1653, 'ggt': 1107, 'ggc': 1230, 'ggg': 1368}\n",
      "-192094.7665926948\n"
     ]
    }
   ],
   "source": [
    "#initial\n",
    "alphabet=['a','t','c','g']\n",
    "combination={}#4*4*4種組合\n",
    "for letter_1 in alphabet:\n",
    "    for letter_2 in alphabet:\n",
    "        for letter_3 in alphabet:\n",
    "            combination[letter_1+letter_2+letter_3]=0\n",
    "\n",
    "#split data\n",
    "split_data=''\n",
    "for line_data in data[begin_line:end_line+1]:\n",
    "    line_data = line_data.lower()\n",
    "    split_data += line_data[0:len(line_data)-1]#不包含endline\n",
    "#statistic\n",
    "for index in range(len(split_data)-2):#不包含最後一個即倒數第二個letter\n",
    "        letter_1 = split_data[index] #假設atc 中的a\n",
    "        letter_2 = split_data[index+1] #假設atc 中的t\n",
    "        letter_3 = split_data[index+2] #假設atc 中的c\n",
    "        combination[letter_1+letter_2+letter_3]+=1\n",
    "print(combination)\n",
    "#calculate\n",
    "total={}\n",
    "for i in alphabet:\n",
    "    for j in alphabet:\n",
    "        total[i+j]=0\n",
    "\n",
    "for i in combination:\n",
    "    total[i[0:2]]+=combination[i]\n",
    "\n",
    "order_2=0\n",
    "for i in combination:\n",
    "    order_2 += math.log2(combination[i]/total[i[0:2]])*combination[i]\n",
    "\n",
    "print(order_2)"
   ]
  },
  {
   "cell_type": "code",
   "execution_count": null,
   "metadata": {},
   "outputs": [],
   "source": [
    "transition_state_0=[0.4,0.6] #[from 0 to 0 , from 0 to 1]\n",
    "transition_state_1=[0.7,0.3] #[from 1 to 0 , from 1 to 1]\n",
    "emission_satte_0=[0.3,0.3,0.2,0.2]#[a,t,c,g]\n",
    "emission_satte_1=[0.4,0.4,0.1,0.1]#[a,t,c,g]"
   ]
  },
  {
   "cell_type": "code",
   "execution_count": null,
   "metadata": {},
   "outputs": [],
   "source": [
    "# file = open('GRCh38_latest_genomic.fna')"
   ]
  },
  {
   "cell_type": "code",
   "execution_count": 2,
   "metadata": {},
   "outputs": [],
   "source": [
    "# data = file.read()\n",
    "# file.close()"
   ]
  },
  {
   "cell_type": "code",
   "execution_count": 1,
   "metadata": {},
   "outputs": [],
   "source": [
    "# pitch='>NC_000006.12 Homo sapiens chromosome 6, GRCh38.p13 Primary Assembly'\n",
    "# pitch2='>NC_000007.14 Homo sapiens chromosome 7, GRCh38.p13 Primary Assembly'\n",
    "# file_name_index_begin= data.index(pitch)\n",
    "# file_name_index_end= file_name_index_begin + 69# 68 word + 1 endline\n",
    "\n",
    "# num_redundant_N=0\n",
    "# for i,data_temp in enumerate(data[file_name_index_end+1:]):#+1 for first N\n",
    "#     if data_temp!='N' and data_temp!='\\n':\n",
    "#         num_redundant_N=i+1 #i begin from 0\n",
    "#         break\n",
    "        \n",
    "# data_begin=file_name_index_end+num_redundant_N #endline後第一個gene\n",
    "# # print(data_begin,data[data_begin:data_begin+68])\n",
    "# print(data[data_begin+10000:data_begin+200005].index('ttggtaccat'))"
   ]
  },
  {
   "cell_type": "code",
   "execution_count": 8,
   "metadata": {},
   "outputs": [],
   "source": [
    "states = ('state_0', 'state_1')\n",
    "\n",
    "split_data=''\n",
    "for line_data in data[begin_line:end_line+1]:\n",
    "    line_data = line_data.lower()\n",
    "    split_data += line_data[0:len(line_data)-1]#不包含endline\n",
    "\n",
    "observations = split_data\n",
    " \n",
    "start_probability = {'state_0': 0.6, 'state_1': 0.4}\n",
    " \n",
    "transition_probability = {\n",
    "   'state_0' : {'state_0': 0.7, 'state_1': 0.3},\n",
    "   'state_1' : {'state_0': 0.9, 'state_1': 0.1},\n",
    "   }\n",
    " \n",
    "emission_probability = {\n",
    "   'state_0' : {'a': 0.4, 't': 0.1, 'c': 0.3,'g':0.2},\n",
    "   'state_1' : {'a': 0.2, 't': 0.3, 'c': 0.2,'g':0.4},\n",
    "   }"
   ]
  },
  {
   "cell_type": "code",
   "execution_count": 12,
   "metadata": {},
   "outputs": [],
   "source": [
    "import math\n",
    "\n",
    "def viterbi(obs, states, start_p, trans_p, emit_p):\n",
    "    V = [{}]\n",
    "    path = {}\n",
    "\n",
    "    # Initialize base cases (t == 0)\n",
    "    for y in states:\n",
    "        V[0][y] = math.log2(start_p[y] * emit_p[y][obs[0]])\n",
    "        path[y] = [y]\n",
    "    # Run Viterbi for t > 0\n",
    "    for t in range(1,len(obs)):\n",
    "        V.append({})\n",
    "        newpath = {}\n",
    "\n",
    "        for y in states:\n",
    "            (prob, state) = max([(V[t-1][y0] + math.log2(trans_p[y0][y]) + math.log2(emit_p[y][obs[t]]), y0) for y0 in states])\n",
    "            V[t][y] = prob\n",
    "            newpath[y] = path[state] + [y]\n",
    "\n",
    "        # Don't need to remember the old paths\n",
    "        path = newpath\n",
    "\n",
    "    #print_dptable(V)\n",
    "    (prob, state) = max([(V[len(obs) - 1][y], y) for y in states])\n",
    "    return (prob, path[state])\n",
    "#     return (prob)"
   ]
  },
  {
   "cell_type": "code",
   "execution_count": 13,
   "metadata": {},
   "outputs": [
    {
     "name": "stdout",
     "output_type": "stream",
     "text": [
      "-250252.33071276834\n"
     ]
    }
   ],
   "source": [
    "def example():\n",
    "    return viterbi(observations,\n",
    "                   states,\n",
    "                   start_probability,\n",
    "                   transition_probability,\n",
    "                   emission_probability)\n",
    "print(example()[0])"
   ]
  },
  {
   "cell_type": "code",
   "execution_count": null,
   "metadata": {},
   "outputs": [],
   "source": []
  }
 ],
 "metadata": {
  "kernelspec": {
   "display_name": "Python 3",
   "language": "python",
   "name": "python3"
  },
  "language_info": {
   "codemirror_mode": {
    "name": "ipython",
    "version": 3
   },
   "file_extension": ".py",
   "mimetype": "text/x-python",
   "name": "python",
   "nbconvert_exporter": "python",
   "pygments_lexer": "ipython3",
   "version": "3.7.0"
  }
 },
 "nbformat": 4,
 "nbformat_minor": 4
}
